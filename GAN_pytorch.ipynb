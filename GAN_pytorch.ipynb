{
  "nbformat": 4,
  "nbformat_minor": 0,
  "metadata": {
    "colab": {
      "provenance": [],
      "gpuType": "T4",
      "include_colab_link": true
    },
    "kernelspec": {
      "name": "python3",
      "display_name": "Python 3"
    },
    "language_info": {
      "name": "python"
    },
    "accelerator": "GPU",
    "widgets": {
      "application/vnd.jupyter.widget-state+json": {
        "1ad5b99148464b4a89643b1881a278bf": {
          "model_module": "@jupyter-widgets/controls",
          "model_name": "HBoxModel",
          "model_module_version": "1.5.0",
          "state": {
            "_dom_classes": [],
            "_model_module": "@jupyter-widgets/controls",
            "_model_module_version": "1.5.0",
            "_model_name": "HBoxModel",
            "_view_count": null,
            "_view_module": "@jupyter-widgets/controls",
            "_view_module_version": "1.5.0",
            "_view_name": "HBoxView",
            "box_style": "",
            "children": [
              "IPY_MODEL_0333b5e5305346ba89249840fbb5235b",
              "IPY_MODEL_bc4620bdfa924a7db2d524adac741f12",
              "IPY_MODEL_202f91920a014774915ba4ec27333f5b"
            ],
            "layout": "IPY_MODEL_7b19c432cb344002aa5832370370bb6b"
          }
        },
        "0333b5e5305346ba89249840fbb5235b": {
          "model_module": "@jupyter-widgets/controls",
          "model_name": "HTMLModel",
          "model_module_version": "1.5.0",
          "state": {
            "_dom_classes": [],
            "_model_module": "@jupyter-widgets/controls",
            "_model_module_version": "1.5.0",
            "_model_name": "HTMLModel",
            "_view_count": null,
            "_view_module": "@jupyter-widgets/controls",
            "_view_module_version": "1.5.0",
            "_view_name": "HTMLView",
            "description": "",
            "description_tooltip": null,
            "layout": "IPY_MODEL_77e535df3ddb4370a3fc70ee250cbb06",
            "placeholder": "​",
            "style": "IPY_MODEL_7744920c14404db583ddfeb988f7bef7",
            "value": "Epoch 2: 100%"
          }
        },
        "bc4620bdfa924a7db2d524adac741f12": {
          "model_module": "@jupyter-widgets/controls",
          "model_name": "FloatProgressModel",
          "model_module_version": "1.5.0",
          "state": {
            "_dom_classes": [],
            "_model_module": "@jupyter-widgets/controls",
            "_model_module_version": "1.5.0",
            "_model_name": "FloatProgressModel",
            "_view_count": null,
            "_view_module": "@jupyter-widgets/controls",
            "_view_module_version": "1.5.0",
            "_view_name": "ProgressView",
            "bar_style": "success",
            "description": "",
            "description_tooltip": null,
            "layout": "IPY_MODEL_e29851cde91a4a76a2b6f9764417f685",
            "max": 430,
            "min": 0,
            "orientation": "horizontal",
            "style": "IPY_MODEL_e9ea4098f8634fbb98f78a1e6bd3c8a6",
            "value": 430
          }
        },
        "202f91920a014774915ba4ec27333f5b": {
          "model_module": "@jupyter-widgets/controls",
          "model_name": "HTMLModel",
          "model_module_version": "1.5.0",
          "state": {
            "_dom_classes": [],
            "_model_module": "@jupyter-widgets/controls",
            "_model_module_version": "1.5.0",
            "_model_name": "HTMLModel",
            "_view_count": null,
            "_view_module": "@jupyter-widgets/controls",
            "_view_module_version": "1.5.0",
            "_view_name": "HTMLView",
            "description": "",
            "description_tooltip": null,
            "layout": "IPY_MODEL_6dcc2d601623414f899023360db29fe4",
            "placeholder": "​",
            "style": "IPY_MODEL_de615e593b884bc7a1a4d46341f689a5",
            "value": " 430/430 [00:16&lt;00:00, 25.43it/s, v_num=15]"
          }
        },
        "7b19c432cb344002aa5832370370bb6b": {
          "model_module": "@jupyter-widgets/base",
          "model_name": "LayoutModel",
          "model_module_version": "1.2.0",
          "state": {
            "_model_module": "@jupyter-widgets/base",
            "_model_module_version": "1.2.0",
            "_model_name": "LayoutModel",
            "_view_count": null,
            "_view_module": "@jupyter-widgets/base",
            "_view_module_version": "1.2.0",
            "_view_name": "LayoutView",
            "align_content": null,
            "align_items": null,
            "align_self": null,
            "border": null,
            "bottom": null,
            "display": "inline-flex",
            "flex": null,
            "flex_flow": "row wrap",
            "grid_area": null,
            "grid_auto_columns": null,
            "grid_auto_flow": null,
            "grid_auto_rows": null,
            "grid_column": null,
            "grid_gap": null,
            "grid_row": null,
            "grid_template_areas": null,
            "grid_template_columns": null,
            "grid_template_rows": null,
            "height": null,
            "justify_content": null,
            "justify_items": null,
            "left": null,
            "margin": null,
            "max_height": null,
            "max_width": null,
            "min_height": null,
            "min_width": null,
            "object_fit": null,
            "object_position": null,
            "order": null,
            "overflow": null,
            "overflow_x": null,
            "overflow_y": null,
            "padding": null,
            "right": null,
            "top": null,
            "visibility": null,
            "width": "100%"
          }
        },
        "77e535df3ddb4370a3fc70ee250cbb06": {
          "model_module": "@jupyter-widgets/base",
          "model_name": "LayoutModel",
          "model_module_version": "1.2.0",
          "state": {
            "_model_module": "@jupyter-widgets/base",
            "_model_module_version": "1.2.0",
            "_model_name": "LayoutModel",
            "_view_count": null,
            "_view_module": "@jupyter-widgets/base",
            "_view_module_version": "1.2.0",
            "_view_name": "LayoutView",
            "align_content": null,
            "align_items": null,
            "align_self": null,
            "border": null,
            "bottom": null,
            "display": null,
            "flex": null,
            "flex_flow": null,
            "grid_area": null,
            "grid_auto_columns": null,
            "grid_auto_flow": null,
            "grid_auto_rows": null,
            "grid_column": null,
            "grid_gap": null,
            "grid_row": null,
            "grid_template_areas": null,
            "grid_template_columns": null,
            "grid_template_rows": null,
            "height": null,
            "justify_content": null,
            "justify_items": null,
            "left": null,
            "margin": null,
            "max_height": null,
            "max_width": null,
            "min_height": null,
            "min_width": null,
            "object_fit": null,
            "object_position": null,
            "order": null,
            "overflow": null,
            "overflow_x": null,
            "overflow_y": null,
            "padding": null,
            "right": null,
            "top": null,
            "visibility": null,
            "width": null
          }
        },
        "7744920c14404db583ddfeb988f7bef7": {
          "model_module": "@jupyter-widgets/controls",
          "model_name": "DescriptionStyleModel",
          "model_module_version": "1.5.0",
          "state": {
            "_model_module": "@jupyter-widgets/controls",
            "_model_module_version": "1.5.0",
            "_model_name": "DescriptionStyleModel",
            "_view_count": null,
            "_view_module": "@jupyter-widgets/base",
            "_view_module_version": "1.2.0",
            "_view_name": "StyleView",
            "description_width": ""
          }
        },
        "e29851cde91a4a76a2b6f9764417f685": {
          "model_module": "@jupyter-widgets/base",
          "model_name": "LayoutModel",
          "model_module_version": "1.2.0",
          "state": {
            "_model_module": "@jupyter-widgets/base",
            "_model_module_version": "1.2.0",
            "_model_name": "LayoutModel",
            "_view_count": null,
            "_view_module": "@jupyter-widgets/base",
            "_view_module_version": "1.2.0",
            "_view_name": "LayoutView",
            "align_content": null,
            "align_items": null,
            "align_self": null,
            "border": null,
            "bottom": null,
            "display": null,
            "flex": "2",
            "flex_flow": null,
            "grid_area": null,
            "grid_auto_columns": null,
            "grid_auto_flow": null,
            "grid_auto_rows": null,
            "grid_column": null,
            "grid_gap": null,
            "grid_row": null,
            "grid_template_areas": null,
            "grid_template_columns": null,
            "grid_template_rows": null,
            "height": null,
            "justify_content": null,
            "justify_items": null,
            "left": null,
            "margin": null,
            "max_height": null,
            "max_width": null,
            "min_height": null,
            "min_width": null,
            "object_fit": null,
            "object_position": null,
            "order": null,
            "overflow": null,
            "overflow_x": null,
            "overflow_y": null,
            "padding": null,
            "right": null,
            "top": null,
            "visibility": null,
            "width": null
          }
        },
        "e9ea4098f8634fbb98f78a1e6bd3c8a6": {
          "model_module": "@jupyter-widgets/controls",
          "model_name": "ProgressStyleModel",
          "model_module_version": "1.5.0",
          "state": {
            "_model_module": "@jupyter-widgets/controls",
            "_model_module_version": "1.5.0",
            "_model_name": "ProgressStyleModel",
            "_view_count": null,
            "_view_module": "@jupyter-widgets/base",
            "_view_module_version": "1.2.0",
            "_view_name": "StyleView",
            "bar_color": null,
            "description_width": ""
          }
        },
        "6dcc2d601623414f899023360db29fe4": {
          "model_module": "@jupyter-widgets/base",
          "model_name": "LayoutModel",
          "model_module_version": "1.2.0",
          "state": {
            "_model_module": "@jupyter-widgets/base",
            "_model_module_version": "1.2.0",
            "_model_name": "LayoutModel",
            "_view_count": null,
            "_view_module": "@jupyter-widgets/base",
            "_view_module_version": "1.2.0",
            "_view_name": "LayoutView",
            "align_content": null,
            "align_items": null,
            "align_self": null,
            "border": null,
            "bottom": null,
            "display": null,
            "flex": null,
            "flex_flow": null,
            "grid_area": null,
            "grid_auto_columns": null,
            "grid_auto_flow": null,
            "grid_auto_rows": null,
            "grid_column": null,
            "grid_gap": null,
            "grid_row": null,
            "grid_template_areas": null,
            "grid_template_columns": null,
            "grid_template_rows": null,
            "height": null,
            "justify_content": null,
            "justify_items": null,
            "left": null,
            "margin": null,
            "max_height": null,
            "max_width": null,
            "min_height": null,
            "min_width": null,
            "object_fit": null,
            "object_position": null,
            "order": null,
            "overflow": null,
            "overflow_x": null,
            "overflow_y": null,
            "padding": null,
            "right": null,
            "top": null,
            "visibility": null,
            "width": null
          }
        },
        "de615e593b884bc7a1a4d46341f689a5": {
          "model_module": "@jupyter-widgets/controls",
          "model_name": "DescriptionStyleModel",
          "model_module_version": "1.5.0",
          "state": {
            "_model_module": "@jupyter-widgets/controls",
            "_model_module_version": "1.5.0",
            "_model_name": "DescriptionStyleModel",
            "_view_count": null,
            "_view_module": "@jupyter-widgets/base",
            "_view_module_version": "1.2.0",
            "_view_name": "StyleView",
            "description_width": ""
          }
        }
      }
    }
  },
  "cells": [
    {
      "cell_type": "markdown",
      "metadata": {
        "id": "view-in-github",
        "colab_type": "text"
      },
      "source": [
        "<a href=\"https://colab.research.google.com/github/Brian-Mwangi-developer/AI_development/blob/main/GAN_pytorch.ipynb\" target=\"_parent\"><img src=\"https://colab.research.google.com/assets/colab-badge.svg\" alt=\"Open In Colab\"/></a>"
      ]
    },
    {
      "cell_type": "code",
      "source": [
        "%matplotlib inline\n",
        "import matplotlib.pyplot as plt\n",
        "plt.show()"
      ],
      "metadata": {
        "id": "IvPLyLr07e1S"
      },
      "execution_count": 1,
      "outputs": []
    },
    {
      "cell_type": "code",
      "execution_count": 2,
      "metadata": {
        "colab": {
          "base_uri": "https://localhost:8080/"
        },
        "id": "7rD4DEDoM9M4",
        "outputId": "95d88347-2248-49f9-a978-3ea001c17a1a",
        "collapsed": true
      },
      "outputs": [
        {
          "output_type": "stream",
          "name": "stdout",
          "text": [
            "Requirement already satisfied: pytorch-lightning in /usr/local/lib/python3.10/dist-packages (2.4.0)\n",
            "Requirement already satisfied: torch>=2.1.0 in /usr/local/lib/python3.10/dist-packages (from pytorch-lightning) (2.4.1+cu121)\n",
            "Requirement already satisfied: tqdm>=4.57.0 in /usr/local/lib/python3.10/dist-packages (from pytorch-lightning) (4.66.5)\n",
            "Requirement already satisfied: PyYAML>=5.4 in /usr/local/lib/python3.10/dist-packages (from pytorch-lightning) (6.0.2)\n",
            "Requirement already satisfied: fsspec>=2022.5.0 in /usr/local/lib/python3.10/dist-packages (from fsspec[http]>=2022.5.0->pytorch-lightning) (2024.6.1)\n",
            "Requirement already satisfied: torchmetrics>=0.7.0 in /usr/local/lib/python3.10/dist-packages (from pytorch-lightning) (1.4.2)\n",
            "Requirement already satisfied: packaging>=20.0 in /usr/local/lib/python3.10/dist-packages (from pytorch-lightning) (24.1)\n",
            "Requirement already satisfied: typing-extensions>=4.4.0 in /usr/local/lib/python3.10/dist-packages (from pytorch-lightning) (4.12.2)\n",
            "Requirement already satisfied: lightning-utilities>=0.10.0 in /usr/local/lib/python3.10/dist-packages (from pytorch-lightning) (0.11.7)\n",
            "Requirement already satisfied: aiohttp!=4.0.0a0,!=4.0.0a1 in /usr/local/lib/python3.10/dist-packages (from fsspec[http]>=2022.5.0->pytorch-lightning) (3.10.8)\n",
            "Requirement already satisfied: setuptools in /usr/local/lib/python3.10/dist-packages (from lightning-utilities>=0.10.0->pytorch-lightning) (71.0.4)\n",
            "Requirement already satisfied: filelock in /usr/local/lib/python3.10/dist-packages (from torch>=2.1.0->pytorch-lightning) (3.16.1)\n",
            "Requirement already satisfied: sympy in /usr/local/lib/python3.10/dist-packages (from torch>=2.1.0->pytorch-lightning) (1.13.3)\n",
            "Requirement already satisfied: networkx in /usr/local/lib/python3.10/dist-packages (from torch>=2.1.0->pytorch-lightning) (3.3)\n",
            "Requirement already satisfied: jinja2 in /usr/local/lib/python3.10/dist-packages (from torch>=2.1.0->pytorch-lightning) (3.1.4)\n",
            "Requirement already satisfied: numpy>1.20.0 in /usr/local/lib/python3.10/dist-packages (from torchmetrics>=0.7.0->pytorch-lightning) (1.26.4)\n",
            "Requirement already satisfied: aiohappyeyeballs>=2.3.0 in /usr/local/lib/python3.10/dist-packages (from aiohttp!=4.0.0a0,!=4.0.0a1->fsspec[http]>=2022.5.0->pytorch-lightning) (2.4.3)\n",
            "Requirement already satisfied: aiosignal>=1.1.2 in /usr/local/lib/python3.10/dist-packages (from aiohttp!=4.0.0a0,!=4.0.0a1->fsspec[http]>=2022.5.0->pytorch-lightning) (1.3.1)\n",
            "Requirement already satisfied: attrs>=17.3.0 in /usr/local/lib/python3.10/dist-packages (from aiohttp!=4.0.0a0,!=4.0.0a1->fsspec[http]>=2022.5.0->pytorch-lightning) (24.2.0)\n",
            "Requirement already satisfied: frozenlist>=1.1.1 in /usr/local/lib/python3.10/dist-packages (from aiohttp!=4.0.0a0,!=4.0.0a1->fsspec[http]>=2022.5.0->pytorch-lightning) (1.4.1)\n",
            "Requirement already satisfied: multidict<7.0,>=4.5 in /usr/local/lib/python3.10/dist-packages (from aiohttp!=4.0.0a0,!=4.0.0a1->fsspec[http]>=2022.5.0->pytorch-lightning) (6.1.0)\n",
            "Requirement already satisfied: yarl<2.0,>=1.12.0 in /usr/local/lib/python3.10/dist-packages (from aiohttp!=4.0.0a0,!=4.0.0a1->fsspec[http]>=2022.5.0->pytorch-lightning) (1.13.1)\n",
            "Requirement already satisfied: async-timeout<5.0,>=4.0 in /usr/local/lib/python3.10/dist-packages (from aiohttp!=4.0.0a0,!=4.0.0a1->fsspec[http]>=2022.5.0->pytorch-lightning) (4.0.3)\n",
            "Requirement already satisfied: MarkupSafe>=2.0 in /usr/local/lib/python3.10/dist-packages (from jinja2->torch>=2.1.0->pytorch-lightning) (2.1.5)\n",
            "Requirement already satisfied: mpmath<1.4,>=1.1.0 in /usr/local/lib/python3.10/dist-packages (from sympy->torch>=2.1.0->pytorch-lightning) (1.3.0)\n",
            "Requirement already satisfied: idna>=2.0 in /usr/local/lib/python3.10/dist-packages (from yarl<2.0,>=1.12.0->aiohttp!=4.0.0a0,!=4.0.0a1->fsspec[http]>=2022.5.0->pytorch-lightning) (3.10)\n"
          ]
        }
      ],
      "source": [
        "!pip install pytorch-lightning"
      ]
    },
    {
      "cell_type": "code",
      "source": [
        "import os\n",
        "\n",
        "import torch\n",
        "import torchvision\n",
        "import torch.nn as nn\n",
        "import torch.optim as optim\n",
        "import torch.nn.functional as F\n",
        "import torchvision.datasets as datasets\n",
        "import torchvision.transforms as transforms\n",
        "from torch.utils.data import DataLoader, random_split\n",
        "from torchvision.datasets import MNIST\n",
        "\n",
        "import matplotlib.pyplot as plt\n",
        "\n",
        "import pytorch_lightning as pl\n",
        "\n",
        "random_seed = 42\n",
        "torch.manual_seed(random_seed)\n",
        "\n",
        "BATCH_SIZE=128\n",
        "AVAIL_GPUS = min(1, torch.cuda.device_count())\n",
        "NUM_WORKERS=int(os.cpu_count() / 2)\n"
      ],
      "metadata": {
        "id": "ZLqkYD2JOeND"
      },
      "execution_count": 3,
      "outputs": []
    },
    {
      "cell_type": "code",
      "source": [
        "class MNISTDataModule(pl.LightningDataModule):\n",
        "    def __init__(self, data_dir=\"./data\",\n",
        "                 batch_size=BATCH_SIZE, num_workers=NUM_WORKERS):\n",
        "        super().__init__()\n",
        "        self.data_dir = data_dir\n",
        "        self.batch_size = batch_size\n",
        "        self.num_workers = num_workers\n",
        "\n",
        "        self.transform = transforms.Compose( #Chains Multiple Transformations\n",
        "            [\n",
        "                transforms.ToTensor(),# transforms from Numpy Array to tensors\n",
        "                transforms.Normalize((0.1307,), (0.3081,)),# normalization helps the model train faster by ensuring the data  is centered and has similar scales\n",
        "            ]\n",
        "        )\n",
        "\n",
        "    def prepare_data(self):\n",
        "        MNIST(self.data_dir, train=True, download=True)\n",
        "        MNIST(self.data_dir, train=False, download=True)\n",
        "\n",
        "    def setup(self, stage=None):\n",
        "        # Assign train/val datasets\n",
        "        if stage == \"fit\" or stage is None:\n",
        "            mnist_full = MNIST(self.data_dir, train=True, transform=self.transform)\n",
        "            self.mnist_train, self.mnist_val = random_split(mnist_full, [55000, 5000])# split the mnist full into training 55,000 and val=5000\n",
        "\n",
        "        # Assign test dataset\n",
        "        if stage == \"test\" or stage is None:\n",
        "            self.mnist_test = MNIST(self.data_dir, train=False, transform=self.transform)\n",
        "\n",
        "    def train_dataloader(self):\n",
        "        return DataLoader(self.mnist_train, batch_size=self.batch_size, num_workers=self.num_workers)\n",
        "\n",
        "    def val_dataloader(self):\n",
        "        return DataLoader(self.mnist_val, batch_size=self.batch_size, num_workers=self.num_workers)\n",
        "\n",
        "    def test_dataloader(self):\n",
        "        return DataLoader(self.mnist_test, batch_size=self.batch_size, num_workers=self.num_workers)"
      ],
      "metadata": {
        "id": "ivRLucUbPNSf"
      },
      "execution_count": 4,
      "outputs": []
    },
    {
      "cell_type": "code",
      "source": [
        "# Detective: fake or no fake -> 1 output [0, 1]\n",
        "class Discriminator(nn.Module):\n",
        "    def __init__(self):\n",
        "        super().__init__()\n",
        "        # Simple CNN\n",
        "        self.conv1 = nn.Conv2d(1, 10, kernel_size=5)#1 represents channel input(grayscale)\n",
        "        self.conv2 = nn.Conv2d(10, 20, kernel_size=5)\n",
        "        self.conv2_drop = nn.Dropout2d()\n",
        "        self.fc1 = nn.Linear(320, 50)\n",
        "        self.fc2 = nn.Linear(50, 1)\n",
        "\n",
        "    def forward(self, x):\n",
        "        x = F.relu(F.max_pool2d(self.conv1(x), 2))\n",
        "        x = F.relu(F.max_pool2d(self.conv2_drop(self.conv2(x)), 2))\n",
        "        # Flatten the tensor so it can be fed into the FC layers\n",
        "        x = x.view(-1, 320)\n",
        "        x = F.relu(self.fc1(x))\n",
        "        x = F.dropout(x, training=self.training)\n",
        "        x = self.fc2(x)\n",
        "        return torch.sigmoid(x)"
      ],
      "metadata": {
        "id": "77qCmqKjQoEc"
      },
      "execution_count": 5,
      "outputs": []
    },
    {
      "cell_type": "code",
      "source": [
        "# Generate Fake Data: output like real data [1, 28, 28] and values -1, 1\n",
        "class Generator(nn.Module):\n",
        "    def __init__(self, latent_dim):# Latent_dim: The size of the random input noise (latent vector)\n",
        "        super().__init__()\n",
        "        self.lin1 = nn.Linear(latent_dim, 7*7*64)  # [n, 256, 7, 7]\n",
        "        self.ct1 = nn.ConvTranspose2d(64, 32, 4, stride=2) # [n, 64, 16, 16] #Upsamples the image increasing size\n",
        "        self.ct2 = nn.ConvTranspose2d(32, 16, 4, stride=2) # [n, 16, 34, 34]\n",
        "        self.conv = nn.Conv2d(16, 1, kernel_size=7)  # [n, 1, 28, 28]  #Reduces the feature map to a single channel grayscale image\n",
        "\n",
        "\n",
        "    def forward(self, x):\n",
        "        # Pass latent space input into linear layer and reshape\n",
        "        x = self.lin1(x) #pass the noise through a linear layer\n",
        "        x = F.relu(x)\n",
        "        x = x.view(-1, 64, 7, 7)  #256  # Reshape into 64 channels of size 7x7\n",
        "\n",
        "        # Upsample (transposed conv) 16x16 (64 feature maps)\n",
        "        x = self.ct1(x)\n",
        "        x = F.relu(x)\n",
        "\n",
        "        # Upsample to 34x34 (16 feature maps)\n",
        "        x = self.ct2(x)\n",
        "        x = F.relu(x)\n",
        "\n",
        "        # Convolution to 28x28 (1 feature map)\n",
        "        return self.conv(x) # Final convolution to output a 1-channel image"
      ],
      "metadata": {
        "id": "tR1I-prKTP9I"
      },
      "execution_count": 6,
      "outputs": []
    },
    {
      "cell_type": "markdown",
      "source": [
        "#GAN"
      ],
      "metadata": {
        "id": "8qX5h03fUqSC"
      }
    },
    {
      "cell_type": "code",
      "source": [
        "class GAN(pl.LightningModule):\n",
        "    def __init__(self,latent_dim=100, lr=0.002):\n",
        "       super().__init__()\n",
        "       self.save_hyperparameters()\n",
        "       self.generator = Generator(latent_dim=self.hparams.latent_dim) # Instantiate the generator\n",
        "       self.discriminator = Discriminator()\n",
        "\n",
        "       #random noise\n",
        "       self.validation_z = torch.randn(6, self.hparams.latent_dim)  # Sample 6 random noise vectors\n",
        "         #set automatic optimization to false\n",
        "       self.automatic_optimization = False\n",
        "\n",
        "    def forward(self,z):\n",
        "      return self.generator(z)\n",
        "\n",
        "    def adversarial_loss(self, y_hat, y):\n",
        "      return F.binary_cross_entropy(y_hat, y)   # Calculate binary cross-entropy loss\n",
        "\n",
        "    def training_step(self, batch, batch_idx):\n",
        "      real_imgs, _ = batch  # Unpack real images from the batch\n",
        "\n",
        "      #sample noise\n",
        "      z= torch.randn(real_imgs.shape[0], self.hparams.latent_dim) # Sample random noise\n",
        "      z=z.type_as(real_imgs) # Ensure the noise tensor is on the same device as real images\n",
        "\n",
        "      #train generator :max log(D(G(z)))\n",
        "      opt_g, opt_d = self.optimizers() # get optimizers\n",
        "\n",
        "      #generate images\n",
        "      fake_imgs = self(z)\n",
        "      yhat = self.discriminator(fake_imgs) # Classify fake images\n",
        "      y = torch.ones(real_imgs.size(0), 1) # Real label for fake images\n",
        "\n",
        "      y = y.type_as(real_imgs)\n",
        "\n",
        "      g_loss = self.adversarial_loss(yhat, y)  # Calculate generator loss\n",
        "\n",
        "      #manually perform backpropagation and optimization\n",
        "      opt_g.zero_grad() # Reset gradients\n",
        "      self.manual_backward(g_loss) # Compute gradients\n",
        "      opt_g.step()  # Update generator parameters\n",
        "\n",
        "      log_dict = {\"g_loss\": g_loss}  # Log generator loss\n",
        "\n",
        "\n",
        "        #how well can it label as real\n",
        "      yhat_real = self.discriminator(real_imgs) # Classify real images\n",
        "\n",
        "      y_real = torch.ones(real_imgs.size(0), 1)  # Real label for real images\n",
        "      y_real = y_real.type_as(real_imgs)\n",
        "\n",
        "      real_loss = self.adversarial_loss(yhat_real, y_real) # Compare and calculate loss for real image\n",
        "\n",
        "      # how well can it label as fake\n",
        "      yhat_fake = self.discriminator(self(z).detach())  # Classify real images\n",
        "      y_fake = torch.zeros(real_imgs.size(0), 1) # Real label for real images\n",
        "      y_fake = y_fake.type_as(real_imgs)\n",
        "\n",
        "      fake_loss = self.adversarial_loss(yhat_fake, y_fake)\n",
        "      d_loss = (real_loss + fake_loss) / 2  # Average loss for the discriminator\n",
        "      log_dict = {\"d_loss\": d_loss}\n",
        "      return {\"loss\": d_loss,\"progress_bar\":log_dict,\"log\": log_dict}\n",
        "\n",
        "      #Adam Optimizer: An adaptive learning rate optimization algorithm\n",
        "    def configure_optimizers(self):\n",
        "      lr=self.hparams.lr # Get the learning rate\n",
        "      opt_g = torch.optim.Adam(self.generator.parameters(), lr=lr) # Adam optimizer for the generator\n",
        "      opt_d = torch.optim.Adam(self.discriminator.parameters(), lr=lr)  # Adam optimizer for the discriminator\n",
        "      return [opt_g, opt_d], []  # Return the optimizers\n",
        "\n",
        "    def plot_imgs(self):\n",
        "      z = self.validation_z.type_as(self.generator.lin1.weight)  # Get validation noise on the right device\n",
        "      sample_imgs =self(z).cpu() # Generate sample images\n",
        "      print(sample_imgs.shape)\n",
        "      print('epoch',self.current_epoch)\n",
        "      fig =plt.figure()\n",
        "      for i in range(sample_imgs.size(0)):\n",
        "        plt.subplot(2,3,i+1) # Create subplots\n",
        "        plt.tight_layout() # Adjust subplot\n",
        "        plt.imshow(sample_imgs.detach()[i,0,:,:], cmap=\"gray_r\", interpolation =\"none\")  # Display generated image\n",
        "        plt.title(\"Generated Data\")  # Title for each subplot\n",
        "        plt.xticks([])\n",
        "        plt.yticks([])\n",
        "        plt.axis(\"off\")\n",
        "      plt.tight_layout()  # Adjust subplot layout\n",
        "      plt.savefig(f\"generated_images_epoch_{self.current_epoch}.png\")  # Save the figure\n",
        "      plt.show()\n",
        "      plt.close(fig)  # Close the figure to prevent figure accumulation during training\n",
        "\n",
        "    def on_epoch_end(self):\n",
        "     # Plot generated images at the end of each epoch\n",
        "     print(f\"Epoch {self.current_epoch} ended, plotting images...\")\n",
        "     self.plot_imgs()"
      ],
      "metadata": {
        "id": "tIIGDzDHUnme"
      },
      "execution_count": 7,
      "outputs": []
    },
    {
      "cell_type": "code",
      "source": [
        "dm = MNISTDataModule() # Create an instance of the data module\n",
        "model = GAN()  # Create an instance of the GAN model\n"
      ],
      "metadata": {
        "id": "sP5q-u9bcoqK"
      },
      "execution_count": 8,
      "outputs": []
    },
    {
      "cell_type": "code",
      "source": [
        "model.plot_imgs() # Plot initial generated images (before training)"
      ],
      "metadata": {
        "colab": {
          "base_uri": "https://localhost:8080/",
          "height": 511
        },
        "id": "5EqeOEMnc56h",
        "outputId": "e2a0aedd-3f0f-4799-9531-abc686e16067",
        "collapsed": true
      },
      "execution_count": 9,
      "outputs": [
        {
          "output_type": "stream",
          "name": "stdout",
          "text": [
            "torch.Size([6, 1, 28, 28])\n",
            "epoch 0\n"
          ]
        },
        {
          "output_type": "display_data",
          "data": {
            "text/plain": [
              "<Figure size 640x480 with 6 Axes>"
            ],
            "image/png": "[encoded data removed]"
          },
          "metadata": {}
        }
      ]
    },
    {
      "cell_type": "code",
      "source": [
        "class ImageLogger(pl.Callback):\n",
        "    def __init__(self, model):\n",
        "        self.model = model\n",
        "\n",
        "    def on_epoch_end(self, trainer, pl_module):\n",
        "        print(f\"Logging images for epoch {trainer.current_epoch}\")\n",
        "        self.model.plot_imgs()\n",
        "\n"
      ],
      "metadata": {
        "id": "iZzJURYG8nsj"
      },
      "execution_count": 10,
      "outputs": []
    },
    {
      "cell_type": "code",
      "source": [
        "image_logger = ImageLogger(model)\n",
        "trainer = pl.Trainer(accelerator=\"gpu\", devices=AVAIL_GPUS, max_epochs=3, callbacks=[image_logger])\n",
        "trainer.fit(model, dm)"
      ],
      "metadata": {
        "colab": {
          "base_uri": "https://localhost:8080/",
          "height": 401,
          "referenced_widgets": [
            "1ad5b99148464b4a89643b1881a278bf",
            "0333b5e5305346ba89249840fbb5235b",
            "bc4620bdfa924a7db2d524adac741f12",
            "202f91920a014774915ba4ec27333f5b",
            "7b19c432cb344002aa5832370370bb6b",
            "77e535df3ddb4370a3fc70ee250cbb06",
            "7744920c14404db583ddfeb988f7bef7",
            "e29851cde91a4a76a2b6f9764417f685",
            "e9ea4098f8634fbb98f78a1e6bd3c8a6",
            "6dcc2d601623414f899023360db29fe4",
            "de615e593b884bc7a1a4d46341f689a5"
          ]
        },
        "id": "XUV63AeSdXDp",
        "outputId": "757d2ebc-b757-4450-8372-f15c8bb1940a"
      },
      "execution_count": 11,
      "outputs": [
        {
          "output_type": "stream",
          "name": "stderr",
          "text": [
            "INFO:pytorch_lightning.utilities.rank_zero:GPU available: True (cuda), used: True\n",
            "INFO:pytorch_lightning.utilities.rank_zero:TPU available: False, using: 0 TPU cores\n",
            "INFO:pytorch_lightning.utilities.rank_zero:HPU available: False, using: 0 HPUs\n",
            "/usr/local/lib/python3.10/dist-packages/pytorch_lightning/trainer/configuration_validator.py:68: You passed in a `val_dataloader` but have no `validation_step`. Skipping val loop.\n",
            "INFO:pytorch_lightning.accelerators.cuda:LOCAL_RANK: 0 - CUDA_VISIBLE_DEVICES: [0]\n",
            "INFO:pytorch_lightning.callbacks.model_summary:\n",
            "  | Name          | Type          | Params | Mode \n",
            "--------------------------------------------------------\n",
            "0 | generator     | Generator     | 358 K  | train\n",
            "1 | discriminator | Discriminator | 21.4 K | train\n",
            "--------------------------------------------------------\n",
            "379 K     Trainable params\n",
            "0         Non-trainable params\n",
            "379 K     Total params\n",
            "1.520     Total estimated model params size (MB)\n",
            "11        Modules in train mode\n",
            "0         Modules in eval mode\n"
          ]
        },
        {
          "output_type": "display_data",
          "data": {
            "text/plain": [
              "Training: |          | 0/? [00:00<?, ?it/s]"
            ],
            "application/vnd.jupyter.widget-view+json": {
              "version_major": 2,
              "version_minor": 0,
              "model_id": "1ad5b99148464b4a89643b1881a278bf"
            }
          },
          "metadata": {}
        },
        {
          "output_type": "stream",
          "name": "stderr",
          "text": [
            "INFO:pytorch_lightning.utilities.rank_zero:`Trainer.fit` stopped: `max_epochs=3` reached.\n"
          ]
        }
      ]
    },
    {
      "cell_type": "code",
      "source": [],
      "metadata": {
        "id": "TFHx9Ig28CWv"
      },
      "execution_count": 11,
      "outputs": []
    }
  ]
}